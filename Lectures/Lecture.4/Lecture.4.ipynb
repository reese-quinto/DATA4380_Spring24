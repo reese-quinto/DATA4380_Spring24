{
 "cells": [
  {
   "cell_type": "markdown",
   "id": "d4eb2071",
   "metadata": {},
   "source": [
    "# Lecture 4\n",
    "\n",
    "My ask for Friday:\n",
    "\n",
    "* Required:\n",
    "    * Laptop setup with python, jupyter.\n",
    "    * Note if you are using Windows, you must setup via WSL.\n",
    "        * How do you read files in Windows disks from WSL Ubuntu VM?\n",
    "        * How do read files in your WSL Ubuntu VM from Windows?\n",
    "    \n",
    "* Attempt (must be completed by end of session Friday):\n",
    "    * Kaggle\n",
    "        * Install [kaggle API](https://www.kaggle.com/docs/api).\n",
    "            * Setup your PATH environment variable.\n",
    "                * Be able to edit text files\n",
    "        * Download all datasets\n",
    "        * Unzip all datasets\n",
    "    * GitHub\n",
    "        * Make sure GitHub is properly setup\n",
    "            * Authentication\n",
    "            * Demonstrate you can push from the command prompt.\n",
    "        * Create a new repository for you work. Name it appropriately. Make it public. Share the URL with class.\n",
    "        * Organize it. e.g. You will do various projects. e.g. Sub-directories for each project.\n",
    "    * Data\n",
    "        * Make table.\n",
    "            * For each dataset:\n",
    "                * Is the first row the column names?\n",
    "                * Comma separated?\n",
    "                * Number of rows\n",
    "                * Number of columns\n",
    "                * Size on disk                "
   ]
  },
  {
   "cell_type": "code",
   "execution_count": null,
   "id": "bd9890bc",
   "metadata": {},
   "outputs": [],
   "source": []
  },
  {
   "cell_type": "code",
   "execution_count": null,
   "id": "110b5ef1",
   "metadata": {},
   "outputs": [],
   "source": []
  }
 ],
 "metadata": {
  "kernelspec": {
   "display_name": "Python 3 (ipykernel)",
   "language": "python",
   "name": "python3"
  },
  "language_info": {
   "codemirror_mode": {
    "name": "ipython",
    "version": 3
   },
   "file_extension": ".py",
   "mimetype": "text/x-python",
   "name": "python",
   "nbconvert_exporter": "python",
   "pygments_lexer": "ipython3",
   "version": "3.9.6"
  }
 },
 "nbformat": 4,
 "nbformat_minor": 5
}
